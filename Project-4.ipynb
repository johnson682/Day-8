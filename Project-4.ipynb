{
 "cells": [
  {
   "cell_type": "markdown",
   "metadata": {},
   "source": [
    "# Project-4  Read and write to a real time database to a server using firebase"
   ]
  },
  {
   "cell_type": "code",
   "execution_count": 1,
   "metadata": {},
   "outputs": [
    {
     "name": "stdout",
     "output_type": "stream",
     "text": [
      "Requirement already satisfied: firebase in e:\\anaconda\\lib\\site-packages (3.0.1)\n",
      "Requirement already satisfied: requests in e:\\anaconda\\lib\\site-packages (from firebase) (2.24.0)\n",
      "Requirement already satisfied: chardet<4,>=3.0.2 in e:\\anaconda\\lib\\site-packages (from requests->firebase) (3.0.4)\n",
      "Requirement already satisfied: urllib3!=1.25.0,!=1.25.1,<1.26,>=1.21.1 in e:\\anaconda\\lib\\site-packages (from requests->firebase) (1.25.11)\n",
      "Requirement already satisfied: certifi>=2017.4.17 in e:\\anaconda\\lib\\site-packages (from requests->firebase) (2020.6.20)\n",
      "Requirement already satisfied: idna<3,>=2.5 in e:\\anaconda\\lib\\site-packages (from requests->firebase) (2.10)\n"
     ]
    }
   ],
   "source": [
    "!pip install firebase"
   ]
  },
  {
   "cell_type": "code",
   "execution_count": 2,
   "metadata": {},
   "outputs": [],
   "source": [
    "import firebase_admin\n",
    "from firebase_admin import credentials\n",
    "from firebase_admin import firestore"
   ]
  },
  {
   "cell_type": "code",
   "execution_count": 3,
   "metadata": {},
   "outputs": [
    {
     "data": {
      "text/plain": [
       "<firebase_admin.App at 0x1ce94c417c0>"
      ]
     },
     "execution_count": 3,
     "metadata": {},
     "output_type": "execute_result"
    }
   ],
   "source": [
    "cred = credentials.Certificate(\"day-8-acf42-firebase-adminsdk-oadtr-feafc31c7f.json\")\n",
    "firebase_admin.initialize_app(cred)"
   ]
  },
  {
   "cell_type": "code",
   "execution_count": 4,
   "metadata": {},
   "outputs": [],
   "source": [
    "db = firestore.client()"
   ]
  },
  {
   "cell_type": "code",
   "execution_count": 5,
   "metadata": {},
   "outputs": [],
   "source": [
    "def enterData():\n",
    "    doc_ref = db.collection(u'users').document()\n",
    "    name = input(\"Enter Name-\")\n",
    "    lastName = input(\"Enter Last Name-\")\n",
    "    age = input(\"Enter Age-\")\n",
    "    dit = {}\n",
    "    dit[\"firstName\"] = name\n",
    "    dit[\"lastName\"] = lastName\n",
    "    dit[\"age\"] = age\n",
    "    doc_ref.set(dit)"
   ]
  },
  {
   "cell_type": "code",
   "execution_count": 9,
   "metadata": {},
   "outputs": [
    {
     "name": "stdout",
     "output_type": "stream",
     "text": [
      "Enter Name-Yogesh\n",
      "Enter Last Name-cena\n",
      "Enter Age-20\n"
     ]
    }
   ],
   "source": [
    "enterData()"
   ]
  },
  {
   "cell_type": "code",
   "execution_count": 11,
   "metadata": {},
   "outputs": [
    {
     "name": "stdout",
     "output_type": "stream",
     "text": [
      "id- E1UXsmICHvL3u8XNwbxd\n",
      "Name- John\n",
      "Last Name- Kd\n",
      "Age- 23\n",
      " \n",
      " \n",
      "id- OpcSavbBkU1yRvGkE3Vj\n",
      "Name- Yogesh\n",
      "Last Name- cena\n",
      "Age- 20\n",
      " \n",
      " \n",
      "id- User\n",
      "Name- None\n",
      "Last Name- None\n",
      "Age- None\n",
      " \n",
      " \n"
     ]
    }
   ],
   "source": [
    "docs = db.collection(u'users').stream()\n",
    "\n",
    "for doc in docs:\n",
    "    print(\"id-\",doc.id)\n",
    "    print(\"Name-\",doc.to_dict().get(\"firstName\"))\n",
    "    print(\"Last Name-\",doc.to_dict().get(\"lastName\"))\n",
    "    print(\"Age-\",doc.to_dict().get(\"age\"))\n",
    "    print(\" \")\n",
    "    print(\" \")"
   ]
  },
  {
   "cell_type": "code",
   "execution_count": 19,
   "metadata": {},
   "outputs": [],
   "source": [
    "def enterUpdateData(uid,updateAge):\n",
    "    doc_ref = db.collection(u'users').document(uid)\n",
    "    doc_ref.update({\"age\":updateAge})"
   ]
  },
  {
   "cell_type": "code",
   "execution_count": 29,
   "metadata": {},
   "outputs": [],
   "source": [
    "enterUpdateData(\"E1UXsmICHvL3u8XNwbxd\",24)"
   ]
  },
  {
   "cell_type": "code",
   "execution_count": 30,
   "metadata": {},
   "outputs": [],
   "source": [
    "def enterDeleteData(uid):\n",
    "    db.collection(u'users').document(uid).delete()"
   ]
  },
  {
   "cell_type": "code",
   "execution_count": 32,
   "metadata": {},
   "outputs": [],
   "source": [
    "enterDeleteData(\"OpcSavbBkU1yRvGkE3Vj\")"
   ]
  },
  {
   "cell_type": "code",
   "execution_count": 33,
   "metadata": {},
   "outputs": [
    {
     "name": "stdout",
     "output_type": "stream",
     "text": [
      "id- E1UXsmICHvL3u8XNwbxd\n",
      "Name- John\n",
      "Last Name- Kd\n",
      "Age- 24\n",
      " \n",
      " \n"
     ]
    }
   ],
   "source": [
    "docs = db.collection(u'users').stream()\n",
    "\n",
    "for doc in docs:\n",
    "    print(\"id-\",doc.id)\n",
    "    print(\"Name-\",doc.to_dict().get(\"firstName\"))\n",
    "    print(\"Last Name-\",doc.to_dict().get(\"lastName\"))\n",
    "    print(\"Age-\",doc.to_dict().get(\"age\"))\n",
    "    print(\" \")\n",
    "    print(\" \")"
   ]
  }
 ],
 "metadata": {
  "kernelspec": {
   "display_name": "Python 3",
   "language": "python",
   "name": "python3"
  },
  "language_info": {
   "codemirror_mode": {
    "name": "ipython",
    "version": 3
   },
   "file_extension": ".py",
   "mimetype": "text/x-python",
   "name": "python",
   "nbconvert_exporter": "python",
   "pygments_lexer": "ipython3",
   "version": "3.8.5"
  }
 },
 "nbformat": 4,
 "nbformat_minor": 4
}
